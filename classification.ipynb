{
 "cells": [
  {
   "cell_type": "markdown",
   "metadata": {},
   "source": [
    "# 分类算法"
   ]
  },
  {
   "cell_type": "markdown",
   "metadata": {},
   "source": [
    "## KNN(k-nearest neighbors algorithm)\n",
    "懒惰算法，不需要进行学习。\n",
    "\n",
    "寻找离待预测点最近的K个点，根据这几个点的情况来判断待预测点的类别。\n",
    "\n",
    "缺点\n",
    "- 不确定性很高，非常依赖与K的取值\n",
    "- 模型简单，拟合能力弱\n",
    "\n",
    "优点\n",
    "- 需要的数据较少，适合冷启动"
   ]
  },
  {
   "cell_type": "markdown",
   "metadata": {},
   "source": [
    "## SVM(Support-vector machine)\n",
    "\n",
    "缺点： \n",
    "- 当数据量特别大时，训练比较慢\n",
    "- 可解释性不强\n",
    "\n",
    "优点\n",
    "- 理论非常完美，支持不同的kernel，用于调参"
   ]
  },
  {
   "cell_type": "markdown",
   "metadata": {},
   "source": [
    "## 贝叶斯网络\n",
    "贝叶斯公式：先验概率、条件概率(后验概率)、全概率公式\n",
    "\n",
    "缺点\n",
    "- 假设条件概率是独立的，但往往问题并不是这一样的\n",
    "- 连续变量不好处理\n",
    "\n",
    "优点\n",
    "- 需要数据量较少，适合冷启动\n",
    "- 可解释性较强"
   ]
  },
  {
   "cell_type": "markdown",
   "metadata": {},
   "source": [
    "## 极大似然估计(MLE)\n"
   ]
  },
  {
   "cell_type": "markdown",
   "metadata": {},
   "source": [
    "## 隐马尔科夫模型"
   ]
  },
  {
   "cell_type": "markdown",
   "metadata": {},
   "source": [
    "## 神经网络"
   ]
  },
  {
   "cell_type": "code",
   "execution_count": null,
   "metadata": {},
   "outputs": [],
   "source": []
  }
 ],
 "metadata": {
  "kernelspec": {
   "display_name": "Python 3",
   "language": "python",
   "name": "python3"
  },
  "language_info": {
   "codemirror_mode": {
    "name": "ipython",
    "version": 3
   },
   "file_extension": ".py",
   "mimetype": "text/x-python",
   "name": "python",
   "nbconvert_exporter": "python",
   "pygments_lexer": "ipython3",
   "version": "3.8.1"
  }
 },
 "nbformat": 4,
 "nbformat_minor": 4
}
